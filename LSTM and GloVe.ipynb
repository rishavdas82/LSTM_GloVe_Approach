{
 "cells": [
  {
   "cell_type": "code",
   "execution_count": 1,
   "metadata": {
    "colab": {},
    "colab_type": "code",
    "id": "zX4Kg8DUTKWO"
   },
   "outputs": [],
   "source": [
    "#@title Licensed under the Apache License, Version 2.0 (the \"License\");\n",
    "# you may not use this file except in compliance with the License.\n",
    "# You may obtain a copy of the License at\n",
    "#\n",
    "# https://www.apache.org/licenses/LICENSE-2.0\n",
    "#\n",
    "# Unless required by applicable law or agreed to in writing, software\n",
    "# distributed under the License is distributed on an \"AS IS\" BASIS,\n",
    "# WITHOUT WARRANTIES OR CONDITIONS OF ANY KIND, either express or implied.\n",
    "# See the License for the specific language governing permissions and\n",
    "# limitations under the License."
   ]
  },
  {
   "cell_type": "code",
   "execution_count": 2,
   "metadata": {
    "colab": {},
    "colab_type": "code",
    "id": "hmA6EzkQJ5jt"
   },
   "outputs": [],
   "source": [
    "import json\n",
    "import tensorflow as tf\n",
    "import csv\n",
    "import random\n",
    "import numpy as np\n",
    "\n",
    "from tensorflow.keras.preprocessing.text import Tokenizer\n",
    "from tensorflow.keras.preprocessing.sequence import pad_sequences\n",
    "from tensorflow.keras.utils import to_categorical\n",
    "from tensorflow.keras import regularizers\n",
    "\n",
    "\n",
    "embedding_dim = 100\n",
    "max_length = 16\n",
    "trunc_type='post'\n",
    "padding_type='post'\n",
    "oov_tok = \"<OOV>\"\n",
    "training_size=160000\n",
    "test_portion=.1\n",
    "\n",
    "corpus = []\n"
   ]
  },
  {
   "cell_type": "code",
   "execution_count": 3,
   "metadata": {
    "colab": {
     "base_uri": "https://localhost:8080/",
     "height": 204
    },
    "colab_type": "code",
    "id": "bM0l_dORKqE0",
    "outputId": "491ba86b-f780-4355-a4be-765565a29c8c"
   },
   "outputs": [],
   "source": [
    "# Note that I cleaned the Stanford dataset to remove LATIN1 encoding to make it easier for Python CSV reader\n",
    "# You can do that yourself with:\n",
    "# iconv -f LATIN1 -t UTF8 training.1600000.processed.noemoticon.csv -o training_cleaned.csv\n",
    "# I then hosted it on my site to make it easier to use in this notebook\n",
    "\n",
    "# !wget --no-check-certificate \\\n",
    "#     https://storage.googleapis.com/laurencemoroney-blog.appspot.com/training_cleaned.csv \\\n",
    "#     -O /tmp/training_cleaned.csv\n",
    "\n",
    "num_sentences = 0\n",
    "\n",
    "with open(\"training_cleaned.csv\", \"r\", encoding='utf8') as csvfile:\n",
    "    reader = csv.reader(csvfile, delimiter=',')\n",
    "    for row in reader:\n",
    "        list_item=[]\n",
    "        list_item.append(row[5])\n",
    "        this_label=row[0]\n",
    "        if this_label=='0':\n",
    "            list_item.append(0)\n",
    "        else:\n",
    "            list_item.append(1)\n",
    "        num_sentences = num_sentences + 1\n",
    "        corpus.append(list_item)\n"
   ]
  },
  {
   "cell_type": "code",
   "execution_count": 4,
   "metadata": {
    "colab": {
     "base_uri": "https://localhost:8080/",
     "height": 68
    },
    "colab_type": "code",
    "id": "3kxblBUjEUX-",
    "outputId": "3c0227a2-e74b-4d9b-cabb-f9ee150571b1"
   },
   "outputs": [
    {
     "name": "stdout",
     "output_type": "stream",
     "text": [
      "1600000\n",
      "1600000\n",
      "[\"is upset that he can't update his Facebook by texting it... and might cry as a result  School today also. Blah!\", 0]\n"
     ]
    }
   ],
   "source": [
    "print(num_sentences)\n",
    "print(len(corpus))\n",
    "print(corpus[1])\n",
    "\n",
    "# Expected Output:\n",
    "# 1600000\n",
    "# 1600000\n",
    "# [\"is upset that he can't update his Facebook by texting it... and might cry as a result  School today also. Blah!\", 0]"
   ]
  },
  {
   "cell_type": "code",
   "execution_count": 5,
   "metadata": {
    "colab": {},
    "colab_type": "code",
    "id": "ohOGz24lsNAD"
   },
   "outputs": [],
   "source": [
    "sentences=[]\n",
    "labels=[]\n",
    "random.shuffle(corpus)\n",
    "for x in range(training_size):\n",
    "    sentences.append(corpus[x][0])\n",
    "    labels.append(corpus[x][1])\n",
    "\n",
    "\n",
    "tokenizer = Tokenizer()\n",
    "tokenizer.fit_on_texts(sentences)\n",
    "\n",
    "word_index = tokenizer.word_index\n",
    "vocab_size=len(word_index)\n",
    "\n",
    "sequences = tokenizer.texts_to_sequences(sentences)\n",
    "padded = pad_sequences(sequences, maxlen=max_length, padding=padding_type, truncating=trunc_type)\n",
    "\n",
    "split = int(test_portion * training_size)\n",
    "\n",
    "test_sequences = np.array(padded[0:split])\n",
    "training_sequences = np.array(padded[split:training_size])\n",
    "test_labels = np.array(labels[0:split])\n",
    "training_labels = np.array(labels[split:training_size])"
   ]
  },
  {
   "cell_type": "code",
   "execution_count": 6,
   "metadata": {
    "colab": {
     "base_uri": "https://localhost:8080/",
     "height": 51
    },
    "colab_type": "code",
    "id": "gIrtRem1En3N",
    "outputId": "4ad8401c-8dba-420d-8aee-38dac0b0839a"
   },
   "outputs": [
    {
     "name": "stdout",
     "output_type": "stream",
     "text": [
      "138141\n",
      "1\n"
     ]
    }
   ],
   "source": [
    "print(vocab_size)\n",
    "print(word_index['i'])\n",
    "# Expected Output\n",
    "# 138858\n",
    "# 1"
   ]
  },
  {
   "cell_type": "code",
   "execution_count": 7,
   "metadata": {
    "colab": {
     "base_uri": "https://localhost:8080/",
     "height": 204
    },
    "colab_type": "code",
    "id": "C1zdgJkusRh0",
    "outputId": "b6edd322-8191-45e7-cb12-08921685a72f"
   },
   "outputs": [],
   "source": [
    "# Note this is the 100 dimension version of GloVe from Stanford\n",
    "# I unzipped and hosted it on my site to make this notebook easier\n",
    "# !wget --no-check-certificate \\\n",
    "#     https://storage.googleapis.com/laurencemoroney-blog.appspot.com/glove.6B.100d.txt \\\n",
    "#     -O /tmp/glove.6B.100d.txt\n",
    "embeddings_index = {};\n",
    "with open('glove.6B.100d.txt', 'r', encoding='utf8') as f:\n",
    "    for line in f:\n",
    "        values = line.split();\n",
    "        word = values[0];\n",
    "        coefs = np.asarray(values[1:], dtype='float32');\n",
    "        embeddings_index[word] = coefs;\n",
    "\n",
    "embeddings_matrix = np.zeros((vocab_size+1, embedding_dim));\n",
    "for word, i in word_index.items():\n",
    "    embedding_vector = embeddings_index.get(word);\n",
    "    if embedding_vector is not None:\n",
    "        embeddings_matrix[i] = embedding_vector;"
   ]
  },
  {
   "cell_type": "code",
   "execution_count": 8,
   "metadata": {
    "colab": {
     "base_uri": "https://localhost:8080/",
     "height": 34
    },
    "colab_type": "code",
    "id": "71NLk_lpFLNt",
    "outputId": "97cb88db-754f-4375-fdc3-876cd6b4fdce"
   },
   "outputs": [
    {
     "name": "stdout",
     "output_type": "stream",
     "text": [
      "138142\n"
     ]
    }
   ],
   "source": [
    "print(len(embeddings_matrix))\n",
    "# Expected Output\n",
    "# 138859"
   ]
  },
  {
   "cell_type": "code",
   "execution_count": 9,
   "metadata": {
    "colab": {},
    "colab_type": "code",
    "id": "iKKvbuEBOGFz"
   },
   "outputs": [
    {
     "name": "stdout",
     "output_type": "stream",
     "text": [
      "Model: \"sequential\"\n",
      "_________________________________________________________________\n",
      "Layer (type)                 Output Shape              Param #   \n",
      "=================================================================\n",
      "embedding (Embedding)        (None, 16, 100)           13814200  \n",
      "_________________________________________________________________\n",
      "dropout (Dropout)            (None, 16, 100)           0         \n",
      "_________________________________________________________________\n",
      "conv1d (Conv1D)              (None, 12, 64)            32064     \n",
      "_________________________________________________________________\n",
      "max_pooling1d (MaxPooling1D) (None, 3, 64)             0         \n",
      "_________________________________________________________________\n",
      "lstm (LSTM)                  (None, 64)                33024     \n",
      "_________________________________________________________________\n",
      "dense (Dense)                (None, 1)                 65        \n",
      "=================================================================\n",
      "Total params: 13,879,353\n",
      "Trainable params: 65,153\n",
      "Non-trainable params: 13,814,200\n",
      "_________________________________________________________________\n",
      "Train on 144000 samples, validate on 16000 samples\n",
      "Epoch 1/100\n",
      "144000/144000 - 17s - loss: 0.5664 - accuracy: 0.6988 - val_loss: 0.5260 - val_accuracy: 0.7356\n",
      "Epoch 2/100\n",
      "144000/144000 - 16s - loss: 0.5263 - accuracy: 0.7312 - val_loss: 0.5155 - val_accuracy: 0.7389\n",
      "Epoch 3/100\n",
      "144000/144000 - 16s - loss: 0.5097 - accuracy: 0.7440 - val_loss: 0.5163 - val_accuracy: 0.7429\n",
      "Epoch 4/100\n",
      "144000/144000 - 16s - loss: 0.4997 - accuracy: 0.7512 - val_loss: 0.5105 - val_accuracy: 0.7431\n",
      "Epoch 5/100\n",
      "144000/144000 - 16s - loss: 0.4908 - accuracy: 0.7563 - val_loss: 0.5100 - val_accuracy: 0.7459\n",
      "Epoch 6/100\n",
      "144000/144000 - 25s - loss: 0.4844 - accuracy: 0.7607 - val_loss: 0.5161 - val_accuracy: 0.7429\n",
      "Epoch 7/100\n",
      "144000/144000 - 33s - loss: 0.4767 - accuracy: 0.7664 - val_loss: 0.5082 - val_accuracy: 0.7437\n",
      "Epoch 8/100\n",
      "144000/144000 - 33s - loss: 0.4731 - accuracy: 0.7680 - val_loss: 0.5085 - val_accuracy: 0.7480\n",
      "Epoch 9/100\n",
      "144000/144000 - 33s - loss: 0.4679 - accuracy: 0.7716 - val_loss: 0.5139 - val_accuracy: 0.7444\n",
      "Epoch 10/100\n",
      "144000/144000 - 32s - loss: 0.4644 - accuracy: 0.7745 - val_loss: 0.5071 - val_accuracy: 0.7451\n",
      "Epoch 11/100\n",
      "144000/144000 - 16s - loss: 0.4620 - accuracy: 0.7738 - val_loss: 0.5107 - val_accuracy: 0.7468\n",
      "Epoch 12/100\n",
      "144000/144000 - 17s - loss: 0.4582 - accuracy: 0.7775 - val_loss: 0.5137 - val_accuracy: 0.7451\n",
      "Epoch 13/100\n",
      "144000/144000 - 17s - loss: 0.4552 - accuracy: 0.7785 - val_loss: 0.5114 - val_accuracy: 0.7469\n",
      "Epoch 14/100\n",
      "144000/144000 - 25s - loss: 0.4532 - accuracy: 0.7794 - val_loss: 0.5154 - val_accuracy: 0.7473\n",
      "Epoch 15/100\n",
      "144000/144000 - 34s - loss: 0.4504 - accuracy: 0.7812 - val_loss: 0.5192 - val_accuracy: 0.7458\n",
      "Epoch 16/100\n",
      "144000/144000 - 33s - loss: 0.4488 - accuracy: 0.7824 - val_loss: 0.5202 - val_accuracy: 0.7487\n",
      "Epoch 17/100\n",
      "144000/144000 - 33s - loss: 0.4478 - accuracy: 0.7830 - val_loss: 0.5192 - val_accuracy: 0.7468\n",
      "Epoch 18/100\n",
      "144000/144000 - 34s - loss: 0.4466 - accuracy: 0.7841 - val_loss: 0.5245 - val_accuracy: 0.7403\n",
      "Epoch 19/100\n",
      "144000/144000 - 28s - loss: 0.4442 - accuracy: 0.7861 - val_loss: 0.5248 - val_accuracy: 0.7458\n",
      "Epoch 20/100\n",
      "144000/144000 - 16s - loss: 0.4441 - accuracy: 0.7864 - val_loss: 0.5253 - val_accuracy: 0.7489\n",
      "Epoch 21/100\n",
      "144000/144000 - 15s - loss: 0.4425 - accuracy: 0.7858 - val_loss: 0.5192 - val_accuracy: 0.7459\n",
      "Epoch 22/100\n",
      "144000/144000 - 17s - loss: 0.4401 - accuracy: 0.7897 - val_loss: 0.5180 - val_accuracy: 0.7479\n",
      "Epoch 23/100\n",
      "144000/144000 - 17s - loss: 0.4389 - accuracy: 0.7895 - val_loss: 0.5288 - val_accuracy: 0.7498\n",
      "Epoch 24/100\n",
      "144000/144000 - 18s - loss: 0.4392 - accuracy: 0.7878 - val_loss: 0.5236 - val_accuracy: 0.7452\n",
      "Epoch 25/100\n",
      "144000/144000 - 17s - loss: 0.4369 - accuracy: 0.7911 - val_loss: 0.5205 - val_accuracy: 0.7463\n",
      "Epoch 26/100\n",
      "144000/144000 - 17s - loss: 0.4373 - accuracy: 0.7902 - val_loss: 0.5222 - val_accuracy: 0.7457\n",
      "Epoch 27/100\n",
      "144000/144000 - 32s - loss: 0.4358 - accuracy: 0.7911 - val_loss: 0.5260 - val_accuracy: 0.7455\n",
      "Epoch 28/100\n",
      "144000/144000 - 28s - loss: 0.4337 - accuracy: 0.7929 - val_loss: 0.5279 - val_accuracy: 0.7452\n",
      "Epoch 29/100\n",
      "144000/144000 - 18s - loss: 0.4339 - accuracy: 0.7918 - val_loss: 0.5251 - val_accuracy: 0.7449\n",
      "Epoch 30/100\n",
      "144000/144000 - 16s - loss: 0.4328 - accuracy: 0.7932 - val_loss: 0.5247 - val_accuracy: 0.7467\n",
      "Epoch 31/100\n",
      "144000/144000 - 18s - loss: 0.4333 - accuracy: 0.7905 - val_loss: 0.5296 - val_accuracy: 0.7442\n",
      "Epoch 32/100\n",
      "144000/144000 - 23s - loss: 0.4317 - accuracy: 0.7930 - val_loss: 0.5230 - val_accuracy: 0.7449\n",
      "Epoch 33/100\n",
      "144000/144000 - 17s - loss: 0.4319 - accuracy: 0.7931 - val_loss: 0.5272 - val_accuracy: 0.7418\n",
      "Epoch 34/100\n",
      "144000/144000 - 16s - loss: 0.4304 - accuracy: 0.7934 - val_loss: 0.5276 - val_accuracy: 0.7441\n",
      "Epoch 35/100\n",
      "144000/144000 - 16s - loss: 0.4310 - accuracy: 0.7933 - val_loss: 0.5286 - val_accuracy: 0.7466\n",
      "Epoch 36/100\n",
      "144000/144000 - 16s - loss: 0.4298 - accuracy: 0.7941 - val_loss: 0.5279 - val_accuracy: 0.7416\n",
      "Epoch 37/100\n",
      "144000/144000 - 29s - loss: 0.4292 - accuracy: 0.7955 - val_loss: 0.5266 - val_accuracy: 0.7460\n",
      "Epoch 38/100\n",
      "144000/144000 - 33s - loss: 0.4297 - accuracy: 0.7946 - val_loss: 0.5300 - val_accuracy: 0.7444\n",
      "Epoch 39/100\n",
      "144000/144000 - 34s - loss: 0.4308 - accuracy: 0.7948 - val_loss: 0.5301 - val_accuracy: 0.7431\n",
      "Epoch 40/100\n",
      "144000/144000 - 33s - loss: 0.4285 - accuracy: 0.7953 - val_loss: 0.5272 - val_accuracy: 0.7445\n",
      "Epoch 41/100\n",
      "144000/144000 - 20s - loss: 0.4295 - accuracy: 0.7946 - val_loss: 0.5259 - val_accuracy: 0.7446\n",
      "Epoch 42/100\n",
      "144000/144000 - 16s - loss: 0.4276 - accuracy: 0.7959 - val_loss: 0.5250 - val_accuracy: 0.7437\n",
      "Epoch 43/100\n",
      "144000/144000 - 16s - loss: 0.4292 - accuracy: 0.7951 - val_loss: 0.5234 - val_accuracy: 0.7464\n",
      "Epoch 44/100\n",
      "144000/144000 - 16s - loss: 0.4283 - accuracy: 0.7957 - val_loss: 0.5320 - val_accuracy: 0.7452\n",
      "Epoch 45/100\n",
      "144000/144000 - 29s - loss: 0.4292 - accuracy: 0.7958 - val_loss: 0.5264 - val_accuracy: 0.7428\n",
      "Epoch 46/100\n",
      "144000/144000 - 33s - loss: 0.4268 - accuracy: 0.7966 - val_loss: 0.5341 - val_accuracy: 0.7418\n",
      "Epoch 47/100\n",
      "144000/144000 - 33s - loss: 0.4289 - accuracy: 0.7944 - val_loss: 0.5276 - val_accuracy: 0.7426\n",
      "Epoch 48/100\n",
      "144000/144000 - 20s - loss: 0.4269 - accuracy: 0.7960 - val_loss: 0.5315 - val_accuracy: 0.7398\n",
      "Epoch 49/100\n",
      "144000/144000 - 16s - loss: 0.4259 - accuracy: 0.7974 - val_loss: 0.5390 - val_accuracy: 0.7409\n",
      "Epoch 50/100\n",
      "144000/144000 - 17s - loss: 0.4266 - accuracy: 0.7970 - val_loss: 0.5309 - val_accuracy: 0.7427\n",
      "Epoch 51/100\n",
      "144000/144000 - 17s - loss: 0.4259 - accuracy: 0.7963 - val_loss: 0.5337 - val_accuracy: 0.7426\n",
      "Epoch 52/100\n",
      "144000/144000 - 31s - loss: 0.4261 - accuracy: 0.7967 - val_loss: 0.5263 - val_accuracy: 0.7444\n",
      "Epoch 53/100\n",
      "144000/144000 - 26s - loss: 0.4267 - accuracy: 0.7965 - val_loss: 0.5315 - val_accuracy: 0.7437\n",
      "Epoch 54/100\n",
      "144000/144000 - 18s - loss: 0.4248 - accuracy: 0.7990 - val_loss: 0.5243 - val_accuracy: 0.7440\n",
      "Epoch 55/100\n",
      "144000/144000 - 18s - loss: 0.4277 - accuracy: 0.7962 - val_loss: 0.5275 - val_accuracy: 0.7435\n",
      "Epoch 56/100\n",
      "144000/144000 - 18s - loss: 0.4253 - accuracy: 0.7982 - val_loss: 0.5306 - val_accuracy: 0.7439\n",
      "Epoch 57/100\n",
      "144000/144000 - 29s - loss: 0.4269 - accuracy: 0.7966 - val_loss: 0.5304 - val_accuracy: 0.7440\n",
      "Epoch 58/100\n",
      "144000/144000 - 33s - loss: 0.4247 - accuracy: 0.7994 - val_loss: 0.5290 - val_accuracy: 0.7463\n",
      "Epoch 59/100\n",
      "144000/144000 - 34s - loss: 0.4234 - accuracy: 0.7985 - val_loss: 0.5233 - val_accuracy: 0.7464\n",
      "Epoch 60/100\n",
      "144000/144000 - 33s - loss: 0.4237 - accuracy: 0.7984 - val_loss: 0.5306 - val_accuracy: 0.7467\n",
      "Epoch 61/100\n",
      "144000/144000 - 33s - loss: 0.4245 - accuracy: 0.7983 - val_loss: 0.5341 - val_accuracy: 0.7421\n",
      "Epoch 62/100\n",
      "144000/144000 - 33s - loss: 0.4241 - accuracy: 0.7983 - val_loss: 0.5299 - val_accuracy: 0.7431\n",
      "Epoch 63/100\n",
      "144000/144000 - 18s - loss: 0.4242 - accuracy: 0.7979 - val_loss: 0.5270 - val_accuracy: 0.7444\n",
      "Epoch 64/100\n",
      "144000/144000 - 17s - loss: 0.4242 - accuracy: 0.7977 - val_loss: 0.5337 - val_accuracy: 0.7477\n",
      "Epoch 65/100\n",
      "144000/144000 - 16s - loss: 0.4234 - accuracy: 0.7982 - val_loss: 0.5333 - val_accuracy: 0.7449\n"
     ]
    },
    {
     "name": "stdout",
     "output_type": "stream",
     "text": [
      "Epoch 66/100\n",
      "144000/144000 - 16s - loss: 0.4248 - accuracy: 0.7972 - val_loss: 0.5283 - val_accuracy: 0.7448\n",
      "Epoch 67/100\n",
      "144000/144000 - 32s - loss: 0.4227 - accuracy: 0.7995 - val_loss: 0.5310 - val_accuracy: 0.7473\n",
      "Epoch 68/100\n",
      "144000/144000 - 33s - loss: 0.4225 - accuracy: 0.7993 - val_loss: 0.5296 - val_accuracy: 0.7465\n",
      "Epoch 69/100\n",
      "144000/144000 - 33s - loss: 0.4232 - accuracy: 0.7987 - val_loss: 0.5262 - val_accuracy: 0.7451\n",
      "Epoch 70/100\n",
      "144000/144000 - 33s - loss: 0.4244 - accuracy: 0.7977 - val_loss: 0.5312 - val_accuracy: 0.7442\n",
      "Epoch 71/100\n",
      "144000/144000 - 34s - loss: 0.4214 - accuracy: 0.7987 - val_loss: 0.5290 - val_accuracy: 0.7458\n",
      "Epoch 72/100\n",
      "144000/144000 - 33s - loss: 0.4230 - accuracy: 0.7996 - val_loss: 0.5305 - val_accuracy: 0.7427\n",
      "Epoch 73/100\n",
      "144000/144000 - 33s - loss: 0.4236 - accuracy: 0.7990 - val_loss: 0.5282 - val_accuracy: 0.7411\n",
      "Epoch 74/100\n",
      "144000/144000 - 23s - loss: 0.4220 - accuracy: 0.7995 - val_loss: 0.5372 - val_accuracy: 0.7409\n",
      "Epoch 75/100\n",
      "144000/144000 - 16s - loss: 0.4215 - accuracy: 0.7997 - val_loss: 0.5295 - val_accuracy: 0.7431\n",
      "Epoch 76/100\n",
      "144000/144000 - 16s - loss: 0.4229 - accuracy: 0.7990 - val_loss: 0.5326 - val_accuracy: 0.7427\n",
      "Epoch 77/100\n",
      "144000/144000 - 16s - loss: 0.4232 - accuracy: 0.7999 - val_loss: 0.5351 - val_accuracy: 0.7408\n",
      "Epoch 78/100\n",
      "144000/144000 - 28s - loss: 0.4233 - accuracy: 0.7989 - val_loss: 0.5346 - val_accuracy: 0.7421\n",
      "Epoch 79/100\n",
      "144000/144000 - 33s - loss: 0.4236 - accuracy: 0.7995 - val_loss: 0.5328 - val_accuracy: 0.7446\n",
      "Epoch 80/100\n",
      "144000/144000 - 33s - loss: 0.4216 - accuracy: 0.7986 - val_loss: 0.5338 - val_accuracy: 0.7404\n",
      "Epoch 81/100\n",
      "144000/144000 - 32s - loss: 0.4219 - accuracy: 0.7994 - val_loss: 0.5337 - val_accuracy: 0.7405\n",
      "Epoch 82/100\n",
      "144000/144000 - 33s - loss: 0.4214 - accuracy: 0.7985 - val_loss: 0.5309 - val_accuracy: 0.7451\n",
      "Epoch 83/100\n",
      "144000/144000 - 33s - loss: 0.4225 - accuracy: 0.7998 - val_loss: 0.5305 - val_accuracy: 0.7430\n",
      "Epoch 84/100\n",
      "144000/144000 - 34s - loss: 0.4236 - accuracy: 0.7993 - val_loss: 0.5283 - val_accuracy: 0.7435\n",
      "Epoch 85/100\n",
      "144000/144000 - 33s - loss: 0.4221 - accuracy: 0.7997 - val_loss: 0.5320 - val_accuracy: 0.7415\n",
      "Epoch 86/100\n",
      "144000/144000 - 33s - loss: 0.4223 - accuracy: 0.8003 - val_loss: 0.5311 - val_accuracy: 0.7429\n",
      "Epoch 87/100\n",
      "144000/144000 - 18s - loss: 0.4224 - accuracy: 0.7998 - val_loss: 0.5327 - val_accuracy: 0.7425\n",
      "Epoch 88/100\n",
      "144000/144000 - 15s - loss: 0.4218 - accuracy: 0.7996 - val_loss: 0.5360 - val_accuracy: 0.7477\n",
      "Epoch 89/100\n",
      "144000/144000 - 17s - loss: 0.4226 - accuracy: 0.7990 - val_loss: 0.5315 - val_accuracy: 0.7442\n",
      "Epoch 90/100\n",
      "144000/144000 - 16s - loss: 0.4212 - accuracy: 0.8001 - val_loss: 0.5285 - val_accuracy: 0.7429\n",
      "Epoch 91/100\n",
      "144000/144000 - 17s - loss: 0.4226 - accuracy: 0.7998 - val_loss: 0.5288 - val_accuracy: 0.7445\n",
      "Epoch 92/100\n",
      "144000/144000 - 16s - loss: 0.4223 - accuracy: 0.7994 - val_loss: 0.5305 - val_accuracy: 0.7444\n",
      "Epoch 93/100\n",
      "144000/144000 - 16s - loss: 0.4217 - accuracy: 0.8013 - val_loss: 0.5314 - val_accuracy: 0.7466\n",
      "Epoch 94/100\n",
      "144000/144000 - 18s - loss: 0.4210 - accuracy: 0.8003 - val_loss: 0.5358 - val_accuracy: 0.7410\n",
      "Epoch 95/100\n",
      "144000/144000 - 18s - loss: 0.4230 - accuracy: 0.7996 - val_loss: 0.5336 - val_accuracy: 0.7460\n",
      "Epoch 96/100\n",
      "144000/144000 - 17s - loss: 0.4217 - accuracy: 0.8002 - val_loss: 0.5356 - val_accuracy: 0.7386\n",
      "Epoch 97/100\n",
      "144000/144000 - 17s - loss: 0.4209 - accuracy: 0.8014 - val_loss: 0.5356 - val_accuracy: 0.7421\n",
      "Epoch 98/100\n",
      "144000/144000 - 17s - loss: 0.4217 - accuracy: 0.7996 - val_loss: 0.5257 - val_accuracy: 0.7448\n",
      "Epoch 99/100\n",
      "144000/144000 - 17s - loss: 0.4220 - accuracy: 0.8004 - val_loss: 0.5379 - val_accuracy: 0.7427\n",
      "Epoch 100/100\n",
      "144000/144000 - 17s - loss: 0.4209 - accuracy: 0.8007 - val_loss: 0.5296 - val_accuracy: 0.7451\n",
      "Training Complete\n"
     ]
    }
   ],
   "source": [
    "model = tf.keras.Sequential([\n",
    "    tf.keras.layers.Embedding(vocab_size+1, embedding_dim, input_length=max_length, weights=[embeddings_matrix], trainable=False),\n",
    "    tf.keras.layers.Dropout(0.2),\n",
    "    tf.keras.layers.Conv1D(64, 5, activation='relu'),\n",
    "    tf.keras.layers.MaxPooling1D(pool_size=4),\n",
    "    tf.keras.layers.LSTM(64),\n",
    "    tf.keras.layers.Dense(1, activation='sigmoid')\n",
    "])\n",
    "model.compile(loss='binary_crossentropy',optimizer='adam',metrics=['accuracy'])\n",
    "model.summary()\n",
    "\n",
    "num_epochs = 100\n",
    "history = model.fit(training_sequences, training_labels, epochs=num_epochs, validation_data=(test_sequences, test_labels), verbose=2)\n",
    "\n",
    "print(\"Training Complete\")\n"
   ]
  },
  {
   "cell_type": "code",
   "execution_count": 10,
   "metadata": {
    "colab": {},
    "colab_type": "code",
    "id": "qxju4ItJKO8F"
   },
   "outputs": [
    {
     "data": {
      "text/plain": [
       "<Figure size 432x288 with 0 Axes>"
      ]
     },
     "execution_count": 10,
     "metadata": {},
     "output_type": "execute_result"
    },
    {
     "data": {
      "image/png": "[encoded data removed]",
      "text/plain": [
       "<Figure size 432x288 with 1 Axes>"
      ]
     },
     "metadata": {
      "needs_background": "light"
     },
     "output_type": "display_data"
    },
    {
     "data": {
      "image/png": "[encoded data removed]",
      "text/plain": [
       "<Figure size 432x288 with 1 Axes>"
      ]
     },
     "metadata": {
      "needs_background": "light"
     },
     "output_type": "display_data"
    },
    {
     "data": {
      "text/plain": [
       "<Figure size 432x288 with 0 Axes>"
      ]
     },
     "metadata": {},
     "output_type": "display_data"
    }
   ],
   "source": [
    "import matplotlib.image  as mpimg\n",
    "import matplotlib.pyplot as plt\n",
    "\n",
    "#-----------------------------------------------------------\n",
    "# Retrieve a list of list results on training and test data\n",
    "# sets for each training epoch\n",
    "#-----------------------------------------------------------\n",
    "acc=history.history['accuracy']\n",
    "val_acc=history.history['val_accuracy']\n",
    "loss=history.history['loss']\n",
    "val_loss=history.history['val_loss']\n",
    "\n",
    "epochs=range(len(acc)) # Get number of epochs\n",
    "\n",
    "#------------------------------------------------\n",
    "# Plot training and validation accuracy per epoch\n",
    "#------------------------------------------------\n",
    "plt.plot(epochs, acc, 'r')\n",
    "plt.plot(epochs, val_acc, 'b')\n",
    "plt.title('Training and validation accuracy')\n",
    "plt.xlabel(\"Epochs\")\n",
    "plt.ylabel(\"Accuracy\")\n",
    "plt.legend([\"Accuracy\", \"Validation Accuracy\"])\n",
    "\n",
    "plt.figure()\n",
    "\n",
    "#------------------------------------------------\n",
    "# Plot training and validation loss per epoch\n",
    "#------------------------------------------------\n",
    "plt.plot(epochs, loss, 'r')\n",
    "plt.plot(epochs, val_loss, 'b')\n",
    "plt.title('Training and validation loss')\n",
    "plt.xlabel(\"Epochs\")\n",
    "plt.ylabel(\"Loss\")\n",
    "plt.legend([\"Loss\", \"Validation Loss\"])\n",
    "\n",
    "plt.figure()\n",
    "\n",
    "\n",
    "# Expected Output\n",
    "# A chart where the validation loss does not increase sharply!"
   ]
  }
 ],
 "metadata": {
  "accelerator": "GPU",
  "colab": {
   "name": "NLP Course - Week 3 Exercise Answer.ipynb",
   "provenance": [],
   "toc_visible": true
  },
  "kernelspec": {
   "display_name": "Python 3",
   "language": "python",
   "name": "python3"
  },
  "language_info": {
   "codemirror_mode": {
    "name": "ipython",
    "version": 3
   },
   "file_extension": ".py",
   "mimetype": "text/x-python",
   "name": "python",
   "nbconvert_exporter": "python",
   "pygments_lexer": "ipython3",
   "version": "3.7.7"
  }
 },
 "nbformat": 4,
 "nbformat_minor": 1
}
